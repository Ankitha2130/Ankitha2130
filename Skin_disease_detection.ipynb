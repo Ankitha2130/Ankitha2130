{
  "metadata": {
    "kernelspec": {
      "display_name": "Python 3",
      "name": "python3"
    },
    "language_info": {
      "name": "python",
      "version": "3.10.14",
      "mimetype": "text/x-python",
      "codemirror_mode": {
        "name": "ipython",
        "version": 3
      },
      "pygments_lexer": "ipython3",
      "nbconvert_exporter": "python",
      "file_extension": ".py"
    },
    "kaggle": {
      "accelerator": "none",
      "dataSources": [
        {
          "sourceId": 1276317,
          "sourceType": "datasetVersion",
          "datasetId": 735911
        }
      ],
      "dockerImageVersionId": 30786,
      "isInternetEnabled": true,
      "language": "python",
      "sourceType": "notebook",
      "isGpuEnabled": false
    },
    "colab": {
      "name": "Skin_disease_detection",
      "provenance": [],
      "gpuType": "T4",
      "include_colab_link": true
    },
    "accelerator": "GPU"
  },
  "nbformat_minor": 0,
  "nbformat": 4,
  "cells": [
    {
      "cell_type": "markdown",
      "metadata": {
        "id": "view-in-github",
        "colab_type": "text"
      },
      "source": [
        "<a href=\"https://colab.research.google.com/github/Ankitha2130/Ankitha2130/blob/main/Skin_disease_detection.ipynb\" target=\"_parent\"><img src=\"https://colab.research.google.com/assets/colab-badge.svg\" alt=\"Open In Colab\"/></a>"
      ]
    },
    {
      "source": [
        "# IMPORTANT: RUN THIS CELL IN ORDER TO IMPORT YOUR KAGGLE DATA SOURCES,\n",
        "# THEN FEEL FREE TO DELETE THIS CELL.\n",
        "# NOTE: THIS NOTEBOOK ENVIRONMENT DIFFERS FROM KAGGLE'S PYTHON\n",
        "# ENVIRONMENT SO THERE MAY BE MISSING LIBRARIES USED BY YOUR\n",
        "# NOTEBOOK.\n",
        "import kagglehub\n",
        "shubhamgoel27_dermnet_path = kagglehub.dataset_download('shubhamgoel27/dermnet')\n",
        "\n",
        "print('Data source import complete.')\n"
      ],
      "metadata": {
        "id": "a19Z_EDQECUn",
        "outputId": "6bb0f347-ac8b-4122-fe76-fa8a5beae174",
        "colab": {
          "base_uri": "https://localhost:8080/"
        }
      },
      "cell_type": "code",
      "outputs": [
        {
          "output_type": "stream",
          "name": "stdout",
          "text": [
            "Downloading from https://www.kaggle.com/api/v1/datasets/download/shubhamgoel27/dermnet?dataset_version_number=1...\n"
          ]
        },
        {
          "output_type": "stream",
          "name": "stderr",
          "text": [
            "100%|██████████| 1.72G/1.72G [00:19<00:00, 93.6MB/s]"
          ]
        },
        {
          "output_type": "stream",
          "name": "stdout",
          "text": [
            "Extracting files...\n"
          ]
        },
        {
          "output_type": "stream",
          "name": "stderr",
          "text": [
            "\n"
          ]
        },
        {
          "output_type": "stream",
          "name": "stdout",
          "text": [
            "Data source import complete.\n"
          ]
        }
      ],
      "execution_count": 1
    },
    {
      "cell_type": "code",
      "source": [
        "import numpy as np\n",
        "import cv2\n",
        "import random\n",
        "import os\n",
        "import matplotlib.pyplot as plt\n",
        "\n",
        "from tensorflow.keras.applications import ResNet50\n",
        "from tensorflow.keras.applications.resnet50 import preprocess_input\n",
        "from tensorflow.keras.models import Model\n",
        "from tensorflow.keras.layers import GlobalAveragePooling2D, Dense"
      ],
      "metadata": {
        "_uuid": "8f2839f25d086af736a60e9eeb907d3b93b6e0e5",
        "_cell_guid": "b1076dfc-b9ad-4769-8c92-a6c4dae69d19",
        "trusted": true,
        "execution": {
          "iopub.status.busy": "2024-11-04T08:04:37.909184Z",
          "iopub.execute_input": "2024-11-04T08:04:37.909753Z",
          "iopub.status.idle": "2024-11-04T08:04:55.0419Z",
          "shell.execute_reply.started": "2024-11-04T08:04:37.909685Z",
          "shell.execute_reply": "2024-11-04T08:04:55.040651Z"
        },
        "id": "Y5uJdM4fECUq"
      },
      "outputs": [],
      "execution_count": 2
    },
    {
      "cell_type": "code",
      "source": [
        "data_path = '/kaggle/input/dermnet/train'"
      ],
      "metadata": {
        "trusted": true,
        "execution": {
          "iopub.status.busy": "2024-11-04T08:05:30.626302Z",
          "iopub.execute_input": "2024-11-04T08:05:30.62724Z",
          "iopub.status.idle": "2024-11-04T08:05:30.633183Z",
          "shell.execute_reply.started": "2024-11-04T08:05:30.627192Z",
          "shell.execute_reply": "2024-11-04T08:05:30.632021Z"
        },
        "id": "lA9VmYgZECUr"
      },
      "outputs": [],
      "execution_count": 3
    },
    {
      "cell_type": "code",
      "source": [
        "train_data = []\n",
        "test_data = []\n",
        "\n",
        "for folder in os.listdir(data_path):\n",
        "    folder_path = os.path.join(data_path, folder)\n",
        "    file = os.listdir(folder_path)\n",
        "    num_train = int(0.6 * len(file))\n",
        "    files_train = random.sample(file, num_train)\n",
        "    files_test = list(set(file) - set(files_train))\n",
        "\n",
        "    for file in files_train:\n",
        "        file_path = os.path.join(folder_path, file)\n",
        "        img = cv2.imread(file_path)\n",
        "        img = cv2.resize(img, (224,224))\n",
        "        train_data.append((img, folder))\n",
        "\n",
        "    for file in files_test:\n",
        "        file_path = os.path.join(folder_path, file)\n",
        "        img = cv2.imread(file_path)\n",
        "        img = cv2.resize(img, (224,224))\n",
        "        test_data.append((img, folder))"
      ],
      "metadata": {
        "trusted": true,
        "execution": {
          "iopub.status.busy": "2024-11-04T08:08:10.054789Z",
          "iopub.execute_input": "2024-11-04T08:08:10.055385Z",
          "iopub.status.idle": "2024-11-04T08:11:27.08279Z",
          "shell.execute_reply.started": "2024-11-04T08:08:10.055339Z",
          "shell.execute_reply": "2024-11-04T08:11:27.08138Z"
        },
        "id": "rrjXDCw2ECUr",
        "outputId": "b576cfc5-2884-4ea4-f83a-088f6f374c5b",
        "colab": {
          "base_uri": "https://localhost:8080/",
          "height": 219
        }
      },
      "outputs": [
        {
          "output_type": "error",
          "ename": "FileNotFoundError",
          "evalue": "[Errno 2] No such file or directory: '/kaggle/input/dermnet/train'",
          "traceback": [
            "\u001b[0;31m---------------------------------------------------------------------------\u001b[0m",
            "\u001b[0;31mFileNotFoundError\u001b[0m                         Traceback (most recent call last)",
            "\u001b[0;32m<ipython-input-4-b0919ad09c64>\u001b[0m in \u001b[0;36m<cell line: 4>\u001b[0;34m()\u001b[0m\n\u001b[1;32m      2\u001b[0m \u001b[0mtest_data\u001b[0m \u001b[0;34m=\u001b[0m \u001b[0;34m[\u001b[0m\u001b[0;34m]\u001b[0m\u001b[0;34m\u001b[0m\u001b[0;34m\u001b[0m\u001b[0m\n\u001b[1;32m      3\u001b[0m \u001b[0;34m\u001b[0m\u001b[0m\n\u001b[0;32m----> 4\u001b[0;31m \u001b[0;32mfor\u001b[0m \u001b[0mfolder\u001b[0m \u001b[0;32min\u001b[0m \u001b[0mos\u001b[0m\u001b[0;34m.\u001b[0m\u001b[0mlistdir\u001b[0m\u001b[0;34m(\u001b[0m\u001b[0mdata_path\u001b[0m\u001b[0;34m)\u001b[0m\u001b[0;34m:\u001b[0m\u001b[0;34m\u001b[0m\u001b[0;34m\u001b[0m\u001b[0m\n\u001b[0m\u001b[1;32m      5\u001b[0m     \u001b[0mfolder_path\u001b[0m \u001b[0;34m=\u001b[0m \u001b[0mos\u001b[0m\u001b[0;34m.\u001b[0m\u001b[0mpath\u001b[0m\u001b[0;34m.\u001b[0m\u001b[0mjoin\u001b[0m\u001b[0;34m(\u001b[0m\u001b[0mdata_path\u001b[0m\u001b[0;34m,\u001b[0m \u001b[0mfolder\u001b[0m\u001b[0;34m)\u001b[0m\u001b[0;34m\u001b[0m\u001b[0;34m\u001b[0m\u001b[0m\n\u001b[1;32m      6\u001b[0m     \u001b[0mfile\u001b[0m \u001b[0;34m=\u001b[0m \u001b[0mos\u001b[0m\u001b[0;34m.\u001b[0m\u001b[0mlistdir\u001b[0m\u001b[0;34m(\u001b[0m\u001b[0mfolder_path\u001b[0m\u001b[0;34m)\u001b[0m\u001b[0;34m\u001b[0m\u001b[0;34m\u001b[0m\u001b[0m\n",
            "\u001b[0;31mFileNotFoundError\u001b[0m: [Errno 2] No such file or directory: '/kaggle/input/dermnet/train'"
          ]
        }
      ],
      "execution_count": 4
    },
    {
      "cell_type": "code",
      "source": [
        "fig, axes = plt.subplots(3, 2, figsize=(10, 5))\n",
        "plt.suptitle('LABELS OF THE IMAGE')\n",
        "\n",
        "for (img, label), ax in zip(random.sample(train_data, 8), axes.flatten()):\n",
        "    ax.xaxis.set_ticklabels([])\n",
        "    ax.yaxis.set_ticklabels([])\n",
        "    ax.grid(True)\n",
        "    ax.set_title(label)\n",
        "    ax.imshow(cv2.cvtColor(img, cv2.COLOR_BGR2RGB))\n",
        "\n",
        "plt.show()"
      ],
      "metadata": {
        "trusted": true,
        "execution": {
          "iopub.status.busy": "2024-11-04T08:23:14.234107Z",
          "iopub.execute_input": "2024-11-04T08:23:14.235243Z",
          "iopub.status.idle": "2024-11-04T08:23:15.068505Z",
          "shell.execute_reply.started": "2024-11-04T08:23:14.235186Z",
          "shell.execute_reply": "2024-11-04T08:23:15.067164Z"
        },
        "id": "7Cwb1chsECUs"
      },
      "outputs": [],
      "execution_count": null
    },
    {
      "cell_type": "code",
      "source": [
        "base_model = ResNet50(weights='imagenet', include_top=False, input_shape=(224, 224, 3))"
      ],
      "metadata": {
        "trusted": true,
        "execution": {
          "iopub.status.busy": "2024-11-04T08:23:47.454458Z",
          "iopub.execute_input": "2024-11-04T08:23:47.454928Z",
          "iopub.status.idle": "2024-11-04T08:23:50.114261Z",
          "shell.execute_reply.started": "2024-11-04T08:23:47.454842Z",
          "shell.execute_reply": "2024-11-04T08:23:50.112891Z"
        },
        "id": "WNB-USqTECUs"
      },
      "outputs": [],
      "execution_count": null
    },
    {
      "cell_type": "code",
      "source": [
        "base_model.trainable = False"
      ],
      "metadata": {
        "trusted": true,
        "execution": {
          "iopub.status.busy": "2024-11-04T08:24:09.03293Z",
          "iopub.execute_input": "2024-11-04T08:24:09.033377Z",
          "iopub.status.idle": "2024-11-04T08:24:09.038922Z",
          "shell.execute_reply.started": "2024-11-04T08:24:09.033334Z",
          "shell.execute_reply": "2024-11-04T08:24:09.03765Z"
        },
        "id": "BZbvdADQECUs"
      },
      "outputs": [],
      "execution_count": null
    },
    {
      "cell_type": "code",
      "source": [
        "classes = 23\n",
        "x = GlobalAveragePooling2D()(base_model.output)\n",
        "x = Dense(512, activation='relu')(x)\n",
        "predictions = Dense(classes, activation='softmax')(x)"
      ],
      "metadata": {
        "trusted": true,
        "execution": {
          "iopub.status.busy": "2024-11-04T08:24:48.649738Z",
          "iopub.execute_input": "2024-11-04T08:24:48.650995Z",
          "iopub.status.idle": "2024-11-04T08:24:48.680191Z",
          "shell.execute_reply.started": "2024-11-04T08:24:48.650945Z",
          "shell.execute_reply": "2024-11-04T08:24:48.678613Z"
        },
        "id": "C-ekApKSECUs"
      },
      "outputs": [],
      "execution_count": null
    },
    {
      "cell_type": "code",
      "source": [
        "model = Model(inputs=base_model.input, outputs=predictions)\n",
        "model.compile(optimizer='adam', loss='categorical_crossentropy', metrics=['accuracy'])"
      ],
      "metadata": {
        "trusted": true,
        "execution": {
          "iopub.status.busy": "2024-11-04T08:25:11.862795Z",
          "iopub.execute_input": "2024-11-04T08:25:11.863304Z",
          "iopub.status.idle": "2024-11-04T08:25:11.909547Z",
          "shell.execute_reply.started": "2024-11-04T08:25:11.863262Z",
          "shell.execute_reply": "2024-11-04T08:25:11.908241Z"
        },
        "id": "tIXyKKj_ECUt"
      },
      "outputs": [],
      "execution_count": null
    },
    {
      "cell_type": "code",
      "source": [
        "from sklearn.preprocessing import LabelEncoder\n",
        "from tensorflow.keras.utils import to_categorical\n",
        "\n",
        "X_train, y_train = zip(*train_data)\n",
        "X_test, y_test = zip(*test_data)\n",
        "\n",
        "X_train = preprocess_input(np.array(X_train))\n",
        "X_test = preprocess_input(np.array(X_test))\n",
        "\n",
        "le = LabelEncoder()\n",
        "y_train_encoded = le.fit_transform(y_train)\n",
        "y_test_encoded = le.transform(y_test)\n",
        "\n",
        "y_train_one_hot = to_categorical(y_train_encoded, classes)\n",
        "y_test_one_hot = to_categorical(y_test_encoded, classes)"
      ],
      "metadata": {
        "trusted": true,
        "execution": {
          "iopub.status.busy": "2024-11-04T08:27:03.225678Z",
          "iopub.execute_input": "2024-11-04T08:27:03.227387Z",
          "iopub.status.idle": "2024-11-04T08:27:11.981595Z",
          "shell.execute_reply.started": "2024-11-04T08:27:03.227319Z",
          "shell.execute_reply": "2024-11-04T08:27:11.980239Z"
        },
        "id": "ayzozOaLECUt"
      },
      "outputs": [],
      "execution_count": null
    },
    {
      "cell_type": "code",
      "source": [
        "from keras.callbacks import ModelCheckpoint, EarlyStopping\n",
        "custom_early_stopping = EarlyStopping(\n",
        "    monitor='val_loss',\n",
        "    patience=10,\n",
        "    min_delta=0.001,\n",
        "    mode='min'\n",
        ")"
      ],
      "metadata": {
        "trusted": true,
        "execution": {
          "iopub.status.busy": "2024-11-04T08:27:49.343498Z",
          "iopub.execute_input": "2024-11-04T08:27:49.344914Z",
          "iopub.status.idle": "2024-11-04T08:27:49.352534Z",
          "shell.execute_reply.started": "2024-11-04T08:27:49.344835Z",
          "shell.execute_reply": "2024-11-04T08:27:49.351261Z"
        },
        "id": "cmWqP3XFECUt"
      },
      "outputs": [],
      "execution_count": null
    },
    {
      "cell_type": "code",
      "source": [
        "EPOCHS = 20\n",
        "BATCH_SIZE = 64\n",
        "history = model.fit(X_train, y_train_one_hot, validation_data=(X_test, y_test_one_hot),\n",
        "                   epochs = EPOCHS, batch_size=BATCH_SIZE,callbacks=[custom_early_stopping])\n",
        "\n",
        "model.save('/kaggle/working/my_model.h5')"
      ],
      "metadata": {
        "trusted": true,
        "execution": {
          "iopub.status.busy": "2024-11-04T09:00:35.112911Z",
          "iopub.execute_input": "2024-11-04T09:00:35.113367Z"
        },
        "id": "HfA0Wh6bECUt"
      },
      "outputs": [],
      "execution_count": null
    }
  ]
}